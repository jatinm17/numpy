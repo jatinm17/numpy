{
 "cells": [
  {
   "cell_type": "code",
   "execution_count": 8,
   "id": "b0eccb28-b9cd-4d98-9d5c-9afa77307151",
   "metadata": {},
   "outputs": [
    {
     "name": "stdout",
     "output_type": "stream",
     "text": [
      "<class 'list'>\n"
     ]
    },
    {
     "data": {
      "text/plain": [
       "numpy.ndarray"
      ]
     },
     "execution_count": 8,
     "metadata": {},
     "output_type": "execute_result"
    }
   ],
   "source": [
    "#QUESTION 1\n",
    "import numpy as np\n",
    "list_=['1','2','3','4','5']\n",
    "array_list=np.array(object=list_)\n",
    "print(type(list_))\n",
    "type(array_list)\n",
    "#DIFFERENCE\n",
    "#The List refers to a collection of various elements in a sequence, in which every element is basically an object. Also, we can access these elements by their positions (index). On the other hand, an ArrayList creates an array (dynamic) of the objects that can easily reduce or increase in size as and when required"
   ]
  },
  {
   "cell_type": "code",
   "execution_count": 16,
   "id": "64ad4718-bd1b-4360-926c-4b8411a3d0cb",
   "metadata": {},
   "outputs": [
    {
     "name": "stdout",
     "output_type": "stream",
     "text": [
      "<class 'str'>\n",
      "<U1\n"
     ]
    }
   ],
   "source": [
    "#QUESTION 2\n",
    "for i in list_:\n",
    "    print(type(i))\n",
    "    break\n",
    "print(array_list.dtype)"
   ]
  },
  {
   "cell_type": "code",
   "execution_count": 20,
   "id": "34c84b34-a2a3-4cc2-93cb-ef2b0a5d13ae",
   "metadata": {},
   "outputs": [
    {
     "name": "stdout",
     "output_type": "stream",
     "text": [
      "<class 'str'>\n",
      "<class 'str'>\n",
      "<class 'str'>\n",
      "<class 'str'>\n",
      "<class 'str'>\n",
      "int64\n"
     ]
    }
   ],
   "source": [
    "#QUESTION 3\n",
    "array_list=np.array(object=list_,dtype=int)\n",
    "for i in list_:\n",
    "    print(type(i))\n",
    "print(array_list.dtype)"
   ]
  },
  {
   "cell_type": "code",
   "execution_count": 24,
   "id": "5df476e7-0221-4b96-bfd5-151af1f30de5",
   "metadata": {},
   "outputs": [
    {
     "name": "stdout",
     "output_type": "stream",
     "text": [
      "(2, 3)\n"
     ]
    },
    {
     "data": {
      "text/plain": [
       "6"
      ]
     },
     "execution_count": 24,
     "metadata": {},
     "output_type": "execute_result"
    }
   ],
   "source": [
    "#QUESTION 4\n",
    "num_list=[[1,2,3],\n",
    "         [4,5,6]]\n",
    "num_array=np.array(object=num_list)\n",
    "print(num_array.shape)\n",
    "num_array.size\n"
   ]
  },
  {
   "cell_type": "code",
   "execution_count": 27,
   "id": "2bc4037f-cf31-465f-aafb-e23718df234d",
   "metadata": {},
   "outputs": [
    {
     "name": "stdout",
     "output_type": "stream",
     "text": [
      "[[0 0 0]\n",
      " [0 0 0]\n",
      " [0 0 0]]\n"
     ]
    }
   ],
   "source": [
    "#QUESTION 5\n",
    "x=np.zeros((3,3),dtype=int)\n",
    "print(x)"
   ]
  },
  {
   "cell_type": "code",
   "execution_count": 33,
   "id": "5eb1dc5f-11e7-42a0-a953-7db41c605331",
   "metadata": {},
   "outputs": [
    {
     "name": "stdout",
     "output_type": "stream",
     "text": [
      "[[1 0 0 0 0]\n",
      " [0 1 0 0 0]\n",
      " [0 0 1 0 0]\n",
      " [0 0 0 1 0]\n",
      " [0 0 0 0 1]]\n"
     ]
    }
   ],
   "source": [
    "#QUESTION 6\n",
    "y=np.eye((5),dtype=int)\n",
    "print(y)"
   ]
  },
  {
   "cell_type": "code",
   "execution_count": null,
   "id": "31590e1f-9bdd-44bf-b455-45f5c6c35fa6",
   "metadata": {},
   "outputs": [],
   "source": []
  },
  {
   "cell_type": "code",
   "execution_count": null,
   "id": "62a949ed-38dd-4643-97f6-40a27df1c2f7",
   "metadata": {},
   "outputs": [],
   "source": []
  }
 ],
 "metadata": {
  "kernelspec": {
   "display_name": "Python 3 (ipykernel)",
   "language": "python",
   "name": "python3"
  },
  "language_info": {
   "codemirror_mode": {
    "name": "ipython",
    "version": 3
   },
   "file_extension": ".py",
   "mimetype": "text/x-python",
   "name": "python",
   "nbconvert_exporter": "python",
   "pygments_lexer": "ipython3",
   "version": "3.10.8"
  }
 },
 "nbformat": 4,
 "nbformat_minor": 5
}
